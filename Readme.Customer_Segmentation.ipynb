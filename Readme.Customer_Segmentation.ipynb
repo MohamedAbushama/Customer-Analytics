{
 "cells": [
  {
   "cell_type": "markdown",
   "metadata": {},
   "source": [
    "## Description "
   ]
  },
  {
   "cell_type": "markdown",
   "metadata": {},
   "source": [
    "##### These datasets are for a physical retail market, We have two csv files one for the demographic data for the customers and  the other for purchasing incidence,  and brands available with their prices. we need to segment the customers based on certain features like the demographic features then use the segmentation we did to produce some descriptive statistics for finding patterns and some initial insights.\n",
    "\n",
    "##### After data processing I have used hierarchial clustring and kmeans to determine what are the perfect clusters to work with, then used PCA with 80% data retention and applied k means again with PCA which made a better clustering output. after that I used some descriptive statistics techniques to detect initial insights and craeted a logistic regression model to use the regression coeffiecient in estmating price elasticities for each brand and eventually what marketing campain is most impactful in such case for each brand."
   ]
  },
  {
   "cell_type": "markdown",
   "metadata": {},
   "source": [
    "## Key Insights"
   ]
  },
  {
   "cell_type": "markdown",
   "metadata": {},
   "source": [
    "> 1. I could recognized 4 segments in the first dataset by using PCA-Kmeans clustering techniques (well-off, fewer opportunity,standard,career focused)\n",
    "\n",
    "> 2. Fewer opportunity segment is the highest proportion among other segments followed by career focused segment.\n",
    "> 3.  career focused has the highest visits average among all segments, with the highest standard deviation which means they are least homogenous according to how often they visit the store, and fewer opportunity segment has the lowest average.\n",
    "> 4. career focused has the highest total purchase incidence with the highest standard deviation as well, followed by well off segment \n",
    "> 5 . the highest revenue gained from this dataset is from career focused segment followed by well off and fewer opprtunity.\n",
    "> 6. the coeffiecient of fewer oppurtunities segment is much higher than the average customer coefficient which in return will impact the price elasticity in this segment the price will be more elastic. and the increase in price will affect the purchase probability in negative way.\n",
    "> 7. the coefficient of career focused is less than fewer opportunity so that increaseing the price is an option but cautiously may not impact the probability of purchase negatively.\n",
    "> 8.well off coefficient is less than career focused which tell us the inelasticity portion is wider range, so increaseing the price to a certain value cautiously wmay not impact the purchase probability negatively.\n",
    "\n",
    " "
   ]
  },
  {
   "cell_type": "markdown",
   "metadata": {},
   "source": [
    "####  As the elasticity increases the price decrease, inversely proportional realationship, after 100% elasticity the price will be elastic and the recommendation will be not increase the price. otherwise as long as the elasticity under 1 the product is inelastic and we allowed to cautiously increase the price without losing customer up to 1.25."
   ]
  },
  {
   "cell_type": "markdown",
   "metadata": {},
   "source": [
    "##### From the above comparison between promotion and no-promotion price elasticities, we can see that the promotion curve lies above the no promotion curve at all price points, means at a certain price point with no promotion the price will be elastic but will stand still inelastic with promotion offered, means that customers are less sensitive to price changes with promotion activities. \n",
    "\n",
    "\n",
    "##### From the above dataframe we found that at 1.27 USD with no promotion the price is elastic but with promotion is still inelaastic until 1.45 USD it rurns elastic whic made about 20 cents difference. \n",
    "\n",
    "##### So obviously it would make sense to change the original price with promotion, better than preserve the original price without providing any promotion. "
   ]
  },
  {
   "cell_type": "markdown",
   "metadata": {},
   "source": [
    "#### brand_1 coefficient is negative in its own price and poistive for all other brands except brand 5 which means that as price increase the purchase probability for this brand is decreasing, and as the the other brand's price increase the purchase probability of purchasing brand_1 increase except for brand 5, and the higher the coeffiecient of other brand the higher probability of customer to switch to brand_1 for instance ."
   ]
  },
  {
   "cell_type": "markdown",
   "metadata": {},
   "source": [
    "####  Brand 5 is inelastic up to 2.06 price point then it turns elastic slowly"
   ]
  },
  {
   "cell_type": "markdown",
   "metadata": {},
   "source": [
    "#### Brand 4 becomes elastic att  1.3 price point which means increasing price for brand 4 is not helpful for the sake of purchase probability for this brand "
   ]
  },
  {
   "cell_type": "markdown",
   "metadata": {},
   "source": [
    "#### Intersetingly that brand 3 has a positive coefficient with the price means as the price increases the purchase probability of brand 3 increases as well which not make sense, because from the above chart we can see that the curve become more elastic after 2.14 which is the maximun price for brand 3 so increasing price in range 1.9 to 2.14 is still inelastic and elastic after that price point, so as a recommedndation brand 3 can increase price cautiously and not exceeding the maximum price "
   ]
  },
  {
   "cell_type": "markdown",
   "metadata": {},
   "source": [
    "####  Brand 2 curve become inelastic at 0.65 price point, and since min is 1.2 and max is 1.9 so increasing the price for brand 2 will risk losing  customers."
   ]
  },
  {
   "cell_type": "markdown",
   "metadata": {},
   "source": [
    "#### Brand 1  curve starts to become elastic at 0.74, minimum price is 1.1 and maximum 1.6 so increasing price 1% will decrease the purchase probability of brand 1  by 0.3 % "
   ]
  },
  {
   "cell_type": "markdown",
   "metadata": {},
   "source": [
    "#### After performin cross price elasticity between Brand 4 & 5 because they have the highest price range and more close to each other as a substitutions and produce the highest revenue in the dataset we found that \n",
    "##### We can see the elasticity is positive, means that as the price of brand 4 increase the purchase probability of brand 5 increase\n",
    "#### When corss brand elasticity > 0 so the two brands are substitutes \n",
    "#### that brand  is a weak substitute for brand 5 because in the price range of brand 5 the cross price elasticity with brand 4 is less than the price elasticity of brand 5 "
   ]
  },
  {
   "cell_type": "markdown",
   "metadata": {},
   "source": [
    "###### Since price of brand 5 starts from 2.01 so we will compare the elasticities from this point if brand 5 cross brand 4 price elasticity is more the the elasticity of brand 5 in absolute terms so 4 is strong substitute for 5 , so from the upper dataframe wee found that brand 4 is strong substitute for brand 5 until price point 1.65 means that if brand 4 lower oits price to that point will be a strong substitute, but in our case the price of brand 5 statrts from 2 so brand 4 is a weak substitute for brand 5 "
   ]
  },
  {
   "cell_type": "markdown",
   "metadata": {},
   "source": [
    "#### since brand 1 price starts from 1.1, so brand 2 is not a strong substitute for brand 1, but is a strong substitute for brand 1 until 1 Price point \n",
    "##### If brand 2 decreases its price 1% the purchase probability of brand 1 will decrease 2.8%, but if brand 1 decreases its price 1% the purchase probability will increase about 3.3% which 0.5 revenue difference.\n"
   ]
  },
  {
   "cell_type": "markdown",
   "metadata": {},
   "source": [
    "#### If brand 4 decreases the price 1%, our purchase probability of brand 5 will decrease by 1.5%, but on the other hand if we decreased our brand 5 price by 1%, our ourchase probability will increase by 2%, net result will be 0.5%.\n",
    "#### 2x = 1.5%"
   ]
  },
  {
   "cell_type": "markdown",
   "metadata": {},
   "source": [
    "###### career focused segment as we discussed before the highest perecntage preferred Brand 5 so with brand 5 price as we can see from the first curve its inelastic along most of the price points and for career focused segment brand 4 is a weak substitude for brand 5\n"
   ]
  }
 ],
 "metadata": {
  "kernelspec": {
   "display_name": "Python 3",
   "language": "python",
   "name": "python3"
  },
  "language_info": {
   "codemirror_mode": {
    "name": "ipython",
    "version": 3
   },
   "file_extension": ".py",
   "mimetype": "text/x-python",
   "name": "python",
   "nbconvert_exporter": "python",
   "pygments_lexer": "ipython3",
   "version": "3.7.6"
  }
 },
 "nbformat": 4,
 "nbformat_minor": 4
}
